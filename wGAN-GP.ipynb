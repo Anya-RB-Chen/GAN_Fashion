{
 "cells": [
  {
   "cell_type": "code",
   "execution_count": 1,
   "metadata": {},
   "outputs": [],
   "source": [
    "from torchvision import datasets, transforms, utils\n",
    "import torch\n",
    "import numpy as np\n",
    "from torch import nn, optim\n",
    "import matplotlib.pyplot as plt\n",
    "import torch.nn.functional as F\n",
    "import pandas as pd\n",
    "import torchvision.utils as vutils\n",
    "import os"
   ]
  },
  {
   "cell_type": "code",
   "execution_count": 2,
   "metadata": {},
   "outputs": [],
   "source": [
    "torch.manual_seed(42)\n",
    "DATA_PATH = './data'\n",
    "TRAIN_DATA_PATH = './data/train.csv'\n",
    "TEST_DATA_PATH = './data/test.csv'\n",
    "SAMPLE_PATH = './sample/wGAN-GP/'\n",
    "MODEL_PATH = './model/wGAN-GP/'\n",
    "GENERATOR_MODEL = 'generator.pth'\n",
    "DISCRIMINATOR_MODEL = 'discriminator.pth'\n",
    "\n",
    "# Color channels of the images: 1 for gray-scale.\n",
    "CHANNELS = 1\n",
    "\n",
    "BATCH_SIZE = 64\n",
    "EPOCHS = 200\n",
    "LEARNING_RATE = 0.0001\n",
    "\n",
    "Z_DIM = 10\n",
    "NUM_CLASSES = 10\n",
    "LABEL_EMBED_SIZE = 5\n",
    "LAMBDA = 10\n",
    "\n",
    "IMAGES_DISPLAY_PER_CLASS = 20\n",
    "LOAD_MODEL = True"
   ]
  },
  {
   "cell_type": "code",
   "execution_count": 3,
   "metadata": {},
   "outputs": [],
   "source": [
    "transform = transforms.Compose([transforms.Resize((32, 32)), transforms.ToTensor(), transforms.Normalize((0.5,), (0.5,))])\n",
    "dataset = datasets.FashionMNIST(root = DATA_PATH, train = True, download = True, transform = transform)\n",
    "train_loader = torch.utils.data.DataLoader(dataset=dataset, batch_size = BATCH_SIZE, shuffle = True, num_workers = 4, drop_last=True)"
   ]
  },
  {
   "cell_type": "code",
   "execution_count": 4,
   "metadata": {},
   "outputs": [
    {
     "name": "stdout",
     "output_type": "stream",
     "text": [
      "Number of training examples:  60000\n",
      "Number of training batches:  937\n"
     ]
    }
   ],
   "source": [
    "# Summarize the training data\n",
    "print('Number of training examples: ', len(train_loader.dataset))\n",
    "print('Number of training batches: ', len(train_loader))"
   ]
  },
  {
   "cell_type": "code",
   "execution_count": 6,
   "metadata": {},
   "outputs": [],
   "source": [
    "def generate_image(generator, z, fixed_label, epoch=0, path=SAMPLE_PATH):\n",
    "    generator.eval()\n",
    "    image_false = generator(z, fixed_label)\n",
    "    image_false = (image_false + 1) / 2\n",
    "    image_false = vutils.make_grid(image_false, nrow=IMAGES_DISPLAY_PER_CLASS, normalize=True)\n",
    "    vutils.save_image(image_false, os.path.join(path, 'epoch_{}.png'.format(epoch)))"
   ]
  },
  {
   "cell_type": "code",
   "execution_count": 5,
   "metadata": {},
   "outputs": [],
   "source": [
    "#######################################################################\n",
    "# conv_block: Convolutional block used in the generator and discriminator\n",
    "#######################################################################\n",
    "\n",
    "def conv_block(in_channels, out_channels, kernel_size=4, stride=2, padding=1, batch_norm=True, transpose=False):\n",
    "    layers = []\n",
    "    if transpose:\n",
    "        conv_layer = nn.ConvTranspose2d(in_channels=in_channels, out_channels=out_channels, kernel_size=kernel_size, stride=stride, padding=padding, bias=False)\n",
    "        layers.append(conv_layer)\n",
    "    else:\n",
    "        conv_layer = nn.Conv2d(in_channels=in_channels, out_channels=out_channels, kernel_size=kernel_size, stride=stride, padding=padding, bias=False)\n",
    "        layers.append(conv_layer)\n",
    "    if batch_norm:\n",
    "        layers.append(nn.BatchNorm2d(out_channels))\n",
    "    return nn.Sequential(*layers)"
   ]
  },
  {
   "cell_type": "code",
   "execution_count": 7,
   "metadata": {},
   "outputs": [],
   "source": [
    "class Generator(nn.Module):\n",
    "    def __init__(self, z_dim=10, n_classes=10, label_embed_size=5, channels=3, conv_dim=64):\n",
    "        super(Generator, self).__init__()\n",
    "        self.label_embed = nn.Embedding(n_classes, label_embed_size)\n",
    "        self.tconv1 = conv_block(z_dim + label_embed_size, conv_dim * 4, padding=0, transpose=True)\n",
    "        self.tconv2 = conv_block(conv_dim * 4, conv_dim * 2, transpose=True)\n",
    "        self.tconv3 = conv_block(conv_dim * 2, conv_dim, transpose=True)\n",
    "        self.tconv4 = conv_block(conv_dim, channels, batch_norm=False, transpose=True)\n",
    "\n",
    "        for m in self.modules():\n",
    "            if isinstance(m, nn.ConvTranspose2d) or isinstance(m, nn.Conv2d):\n",
    "                nn.init.normal_(m.weight.data, 0.0, 0.02)\n",
    "            if isinstance(m, nn.BatchNorm2d):\n",
    "                nn.init.constant_(m.weight.data, 1.0)\n",
    "                nn.init.constant_(m.bias.data, 0)\n",
    "    \n",
    "    def forward(self, x, label):\n",
    "        x = x.reshape([x.shape[0], -1, 1, 1])\n",
    "        label_embed = self.label_embed(label)\n",
    "        label_embed = label_embed.reshape([label_embed.shape[0], -1, 1, 1])\n",
    "        x = torch.cat([x, label_embed], dim=1)\n",
    "        x = F.relu(self.tconv1(x))\n",
    "        x = F.relu(self.tconv2(x))\n",
    "        x = F.relu(self.tconv3(x))\n",
    "        x = torch.tanh(self.tconv4(x))\n",
    "        return x\n",
    "    \n",
    "\n",
    "class Discriminator(nn.Module):\n",
    "    def __init__(self, n_classes=10, channels=3, conv_dim=64):\n",
    "        super(Discriminator, self).__init__()\n",
    "        self.image_size = 32\n",
    "        self.label_embed = nn.Embedding(n_classes, self.image_size * self.image_size)\n",
    "        self.conv1 = conv_block(channels + 1, conv_dim, batch_norm=False)\n",
    "        self.conv2 = conv_block(conv_dim, conv_dim * 2)\n",
    "        self.conv3 = conv_block(conv_dim * 2, conv_dim * 4)\n",
    "        self.conv4 = conv_block(conv_dim * 4, 1, kernel_size=4, padding=0, batch_norm=False, stride=1)\n",
    "\n",
    "        for m in self.modules():\n",
    "            if isinstance(m, nn.Conv2d):\n",
    "                nn.init.normal_(m.weight.data, 0.0, 0.02)\n",
    "            if isinstance(m, nn.BatchNorm2d):\n",
    "                nn.init.constant_(m.weight.data, 1.0)\n",
    "                nn.init.constant_(m.bias.data, 0)\n",
    "\n",
    "    def forward(self, x, label):\n",
    "        alpha = 0.2\n",
    "        label_embed = self.label_embed(label)\n",
    "        label_embed = label_embed.reshape([label_embed.shape[0], 1, self.image_size, self.image_size])\n",
    "        x = torch.cat([x, label_embed], dim=1)\n",
    "        x = F.leaky_relu(self.conv1(x), negative_slope=alpha)\n",
    "        x = F.leaky_relu(self.conv2(x), negative_slope=alpha)\n",
    "        x = F.leaky_relu(self.conv3(x), negative_slope=alpha)\n",
    "        # x = torch.sigmoid(self.conv4(x))\n",
    "        x = self.conv4(x)\n",
    "        return x.squeeze()"
   ]
  },
  {
   "cell_type": "code",
   "execution_count": 8,
   "metadata": {},
   "outputs": [],
   "source": [
    "generator = Generator(z_dim=Z_DIM, n_classes=NUM_CLASSES, label_embed_size=LABEL_EMBED_SIZE, channels=CHANNELS)\n",
    "discriminator = Discriminator(n_classes=NUM_CLASSES, channels=CHANNELS)"
   ]
  },
  {
   "cell_type": "code",
   "execution_count": 9,
   "metadata": {},
   "outputs": [
    {
     "name": "stdout",
     "output_type": "stream",
     "text": [
      "Loading the model...\n",
      "Model loaded successfully!\n"
     ]
    }
   ],
   "source": [
    "# Load the model if LOAD_MODEL is True\n",
    "if LOAD_MODEL:\n",
    "    print('Loading the model...')\n",
    "    generator.load_state_dict(torch.load(os.path.join(MODEL_PATH, 'generator.pth')))\n",
    "    discriminator.load_state_dict(torch.load(os.path.join(MODEL_PATH, 'discriminator.pth')))  \n",
    "    print('Model loaded successfully!')                                "
   ]
  },
  {
   "cell_type": "code",
   "execution_count": 10,
   "metadata": {},
   "outputs": [
    {
     "name": "stdout",
     "output_type": "stream",
     "text": [
      "==================== Generator ====================\n",
      "Generator(\n",
      "  (label_embed): Embedding(10, 5)\n",
      "  (tconv1): Sequential(\n",
      "    (0): ConvTranspose2d(15, 256, kernel_size=(4, 4), stride=(2, 2), bias=False)\n",
      "    (1): BatchNorm2d(256, eps=1e-05, momentum=0.1, affine=True, track_running_stats=True)\n",
      "  )\n",
      "  (tconv2): Sequential(\n",
      "    (0): ConvTranspose2d(256, 128, kernel_size=(4, 4), stride=(2, 2), padding=(1, 1), bias=False)\n",
      "    (1): BatchNorm2d(128, eps=1e-05, momentum=0.1, affine=True, track_running_stats=True)\n",
      "  )\n",
      "  (tconv3): Sequential(\n",
      "    (0): ConvTranspose2d(128, 64, kernel_size=(4, 4), stride=(2, 2), padding=(1, 1), bias=False)\n",
      "    (1): BatchNorm2d(64, eps=1e-05, momentum=0.1, affine=True, track_running_stats=True)\n",
      "  )\n",
      "  (tconv4): Sequential(\n",
      "    (0): ConvTranspose2d(64, 1, kernel_size=(4, 4), stride=(2, 2), padding=(1, 1), bias=False)\n",
      "  )\n",
      ")\n",
      "==================== Discriminator ====================\n",
      "Discriminator(\n",
      "  (label_embed): Embedding(10, 1024)\n",
      "  (conv1): Sequential(\n",
      "    (0): Conv2d(2, 64, kernel_size=(4, 4), stride=(2, 2), padding=(1, 1), bias=False)\n",
      "  )\n",
      "  (conv2): Sequential(\n",
      "    (0): Conv2d(64, 128, kernel_size=(4, 4), stride=(2, 2), padding=(1, 1), bias=False)\n",
      "    (1): BatchNorm2d(128, eps=1e-05, momentum=0.1, affine=True, track_running_stats=True)\n",
      "  )\n",
      "  (conv3): Sequential(\n",
      "    (0): Conv2d(128, 256, kernel_size=(4, 4), stride=(2, 2), padding=(1, 1), bias=False)\n",
      "    (1): BatchNorm2d(256, eps=1e-05, momentum=0.1, affine=True, track_running_stats=True)\n",
      "  )\n",
      "  (conv4): Sequential(\n",
      "    (0): Conv2d(256, 1, kernel_size=(4, 4), stride=(1, 1), bias=False)\n",
      "  )\n",
      ")\n"
     ]
    }
   ],
   "source": [
    "# Model summary\n",
    "print('==================== Generator ====================')\n",
    "print(generator)\n",
    "print('==================== Discriminator ====================')\n",
    "print(discriminator)"
   ]
  },
  {
   "cell_type": "code",
   "execution_count": 11,
   "metadata": {},
   "outputs": [],
   "source": [
    "# G_optimizer = torch.optim.Adam(generator.parameters(), lr=LEARNING_RATE, betas=(0.5, 0.999), weight_decay=2e-5)\n",
    "# D_optimizer = torch.optim.Adam(discriminator.parameters(), lr=LEARNING_RATE, betas=(0.5, 0.999), weight_decay=2e-5)\n",
    "\n",
    "G_optimizer = torch.optim.RMSprop(generator.parameters(), lr=LEARNING_RATE)\n",
    "D_optimizer = torch.optim.RMSprop(discriminator.parameters(), lr=LEARNING_RATE)\n",
    "\n",
    "# Loss function\n",
    "# criterion = nn.BCELoss()\n",
    "\n",
    "# Fix images\n",
    "fixed_z = torch.randn(IMAGES_DISPLAY_PER_CLASS * NUM_CLASSES, Z_DIM)\n",
    "fixed_label = torch.arange(0, NUM_CLASSES)\n",
    "fixed_label = torch.repeat_interleave(fixed_label, IMAGES_DISPLAY_PER_CLASS)\n",
    "\n",
    "# labels for real and fake images\n",
    "real_label = torch.ones(BATCH_SIZE)\n",
    "fake_label = torch.zeros(BATCH_SIZE)\n",
    "\n",
    "# Move to GPU\n",
    "if torch.cuda.is_available():\n",
    "    generator = generator.cuda()\n",
    "    discriminator = discriminator.cuda()\n",
    "    # criterion = criterion.cuda()\n",
    "    fixed_z = fixed_z.cuda()\n",
    "    fixed_label = fixed_label.cuda()\n",
    "    real_label = real_label.cuda()\n",
    "    fake_label = fake_label.cuda()\n",
    "else:\n",
    "    print('CUDA is not available.')\n"
   ]
  },
  {
   "cell_type": "code",
   "execution_count": 12,
   "metadata": {},
   "outputs": [],
   "source": [
    "total_iter = 0\n",
    "max_iter = len(train_loader)\n",
    "\n",
    "G_losses = []\n",
    "D_losses = []"
   ]
  },
  {
   "cell_type": "code",
   "execution_count": 13,
   "metadata": {},
   "outputs": [],
   "source": [
    "def cal_gradient_penalty(x_real, x_fake, label):\n",
    "    alpha = torch.rand(BATCH_SIZE, 1, 1, 1)\n",
    "    alpha = alpha.cuda() if torch.cuda.is_available() else alpha\n",
    "\n",
    "    x_hat = alpha * x_real + (1 - alpha) * x_fake\n",
    "    x_hat.requires_grad_(True)\n",
    "\n",
    "    pred_hat = discriminator(x_hat, label)\n",
    "    gradients = torch.autograd.grad(outputs=pred_hat, inputs=x_hat, grad_outputs=torch.ones_like(pred_hat), create_graph=True, retain_graph=True)[0]\n",
    "    gradients = gradients.cuda() if torch.cuda.is_available() else gradients\n",
    "    gradients = gradients.view(gradients.shape[0], -1)\n",
    "    gradient_penalty = ((gradients.norm(2, dim=1) - 1) ** 2).mean()\n",
    "    return gradient_penalty"
   ]
  },
  {
   "cell_type": "code",
   "execution_count": 15,
   "metadata": {},
   "outputs": [
    {
     "name": "stdout",
     "output_type": "stream",
     "text": [
      "Epoch [1/200] Batch 0/937 D_loss: -0.0037 G_loss: 0.0743\n",
      "Epoch [1/200] Batch 50/937 D_loss: 0.0314 G_loss: -0.0717\n"
     ]
    },
    {
     "ename": "KeyboardInterrupt",
     "evalue": "",
     "output_type": "error",
     "traceback": [
      "\u001b[1;31m---------------------------------------------------------------------------\u001b[0m",
      "\u001b[1;31mKeyboardInterrupt\u001b[0m                         Traceback (most recent call last)",
      "Cell \u001b[1;32mIn[15], line 39\u001b[0m\n\u001b[0;32m     37\u001b[0m G_loss \u001b[39m=\u001b[39m \u001b[39m-\u001b[39mtorch\u001b[39m.\u001b[39mmean(fake_output)\n\u001b[0;32m     38\u001b[0m G_optimizer\u001b[39m.\u001b[39mzero_grad()\n\u001b[1;32m---> 39\u001b[0m G_loss\u001b[39m.\u001b[39;49mbackward()\n\u001b[0;32m     40\u001b[0m G_optimizer\u001b[39m.\u001b[39mstep()\n\u001b[0;32m     42\u001b[0m \u001b[39m# Save losses\u001b[39;00m\n",
      "File \u001b[1;32mc:\\Users\\lmh23\\anaconda3\\envs\\pytorch_gpu\\lib\\site-packages\\torch\\_tensor.py:487\u001b[0m, in \u001b[0;36mTensor.backward\u001b[1;34m(self, gradient, retain_graph, create_graph, inputs)\u001b[0m\n\u001b[0;32m    477\u001b[0m \u001b[39mif\u001b[39;00m has_torch_function_unary(\u001b[39mself\u001b[39m):\n\u001b[0;32m    478\u001b[0m     \u001b[39mreturn\u001b[39;00m handle_torch_function(\n\u001b[0;32m    479\u001b[0m         Tensor\u001b[39m.\u001b[39mbackward,\n\u001b[0;32m    480\u001b[0m         (\u001b[39mself\u001b[39m,),\n\u001b[1;32m   (...)\u001b[0m\n\u001b[0;32m    485\u001b[0m         inputs\u001b[39m=\u001b[39minputs,\n\u001b[0;32m    486\u001b[0m     )\n\u001b[1;32m--> 487\u001b[0m torch\u001b[39m.\u001b[39;49mautograd\u001b[39m.\u001b[39;49mbackward(\n\u001b[0;32m    488\u001b[0m     \u001b[39mself\u001b[39;49m, gradient, retain_graph, create_graph, inputs\u001b[39m=\u001b[39;49minputs\n\u001b[0;32m    489\u001b[0m )\n",
      "File \u001b[1;32mc:\\Users\\lmh23\\anaconda3\\envs\\pytorch_gpu\\lib\\site-packages\\torch\\autograd\\__init__.py:200\u001b[0m, in \u001b[0;36mbackward\u001b[1;34m(tensors, grad_tensors, retain_graph, create_graph, grad_variables, inputs)\u001b[0m\n\u001b[0;32m    195\u001b[0m     retain_graph \u001b[39m=\u001b[39m create_graph\n\u001b[0;32m    197\u001b[0m \u001b[39m# The reason we repeat same the comment below is that\u001b[39;00m\n\u001b[0;32m    198\u001b[0m \u001b[39m# some Python versions print out the first line of a multi-line function\u001b[39;00m\n\u001b[0;32m    199\u001b[0m \u001b[39m# calls in the traceback and some print out the last line\u001b[39;00m\n\u001b[1;32m--> 200\u001b[0m Variable\u001b[39m.\u001b[39;49m_execution_engine\u001b[39m.\u001b[39;49mrun_backward(  \u001b[39m# Calls into the C++ engine to run the backward pass\u001b[39;49;00m\n\u001b[0;32m    201\u001b[0m     tensors, grad_tensors_, retain_graph, create_graph, inputs,\n\u001b[0;32m    202\u001b[0m     allow_unreachable\u001b[39m=\u001b[39;49m\u001b[39mTrue\u001b[39;49;00m, accumulate_grad\u001b[39m=\u001b[39;49m\u001b[39mTrue\u001b[39;49;00m)\n",
      "\u001b[1;31mKeyboardInterrupt\u001b[0m: "
     ]
    }
   ],
   "source": [
    "# Training\n",
    "for epoch in range(EPOCHS):\n",
    "    generator.train()\n",
    "    discriminator.train()\n",
    "\n",
    "    for batch_idx, data in enumerate(train_loader):\n",
    "\n",
    "        total_iter += 1\n",
    "\n",
    "        # Load data\n",
    "        x_real, y_real = data\n",
    "        z_fake = torch.randn(BATCH_SIZE, Z_DIM)\n",
    "\n",
    "        if torch.cuda.is_available():\n",
    "            x_real = x_real.cuda()\n",
    "            y_real = y_real.cuda()\n",
    "            z_fake = z_fake.cuda()\n",
    "        \n",
    "        # Generate fake images\n",
    "        x_fake = generator(z_fake, y_real)\n",
    "        # Train discriminator\n",
    "        fake_output = discriminator(x_fake.detach(), y_real)\n",
    "        real_output = discriminator(x_real.detach(), y_real)\n",
    "        D_loss = -torch.mean(real_output - fake_output)\n",
    "        gradient_penalty = cal_gradient_penalty(x_real, x_fake.detach(), y_real)\n",
    "        D_loss += 0.5 * gradient_penalty\n",
    "\n",
    "        D_optimizer.zero_grad()\n",
    "        D_loss.backward()\n",
    "        D_optimizer.step()\n",
    "\n",
    "        for p in discriminator.parameters():\n",
    "            p.data.clamp_(-0.01, 0.01)\n",
    "\n",
    "        # Train generator\n",
    "        fake_output = discriminator(x_fake, y_real)\n",
    "        G_loss = -torch.mean(fake_output)\n",
    "        G_optimizer.zero_grad()\n",
    "        G_loss.backward()\n",
    "        G_optimizer.step()\n",
    "\n",
    "        # Save losses\n",
    "        G_losses.append(G_loss.item())\n",
    "        D_losses.append(D_loss.item())\n",
    "\n",
    "        if batch_idx % 50 == 0:\n",
    "            print(f'Epoch [{epoch+1}/{EPOCHS}] Batch {batch_idx}/{max_iter} D_loss: {D_loss.item():.4f} G_loss: {G_loss.item():.4f}')\n",
    "\n",
    "        if (epoch + 1) % 5 == 0:\n",
    "            torch.save(generator.state_dict(), os.path.join(MODEL_PATH, 'generator.pth'))\n",
    "            torch.save(discriminator.state_dict(), os.path.join(MODEL_PATH, 'discriminator.pth'))\n",
    "            generate_image(generator, fixed_z, fixed_label, epoch + 1)\n",
    "\n",
    "    generate_image(generator, fixed_z, fixed_label)"
   ]
  },
  {
   "cell_type": "code",
   "execution_count": 14,
   "metadata": {},
   "outputs": [
    {
     "data": {
      "image/png": "[encoded data removed]",
      "text/plain": [
       "<Figure size 1000x500 with 1 Axes>"
      ]
     },
     "metadata": {},
     "output_type": "display_data"
    }
   ],
   "source": [
    "# Plot losses\n",
    "\n",
    "plt.figure(figsize=(10, 5))\n",
    "plt.title(\"Generator and Discriminator Loss During Training\")\n",
    "plt.plot(G_losses, label=\"G\")\n",
    "plt.plot(D_losses, label=\"D\")\n",
    "plt.xlabel(\"iterations\")\n",
    "plt.ylabel(\"Loss\")\n",
    "plt.legend()\n",
    "plt.show()"
   ]
  },
  {
   "cell_type": "code",
   "execution_count": 15,
   "metadata": {},
   "outputs": [
    {
     "data": {
      "image/png": "[encoded data removed]",
      "text/plain": [
       "<Figure size 1000x500 with 1 Axes>"
      ]
     },
     "metadata": {},
     "output_type": "display_data"
    }
   ],
   "source": [
    "# Plot losses versus epochs\n",
    "G_loss_per_epoch = []\n",
    "D_loss_per_epoch = []\n",
    "\n",
    "for i in range(0, len(G_losses), max_iter):\n",
    "    G_loss_per_epoch.append(sum(G_losses[i:i+max_iter]) / max_iter)\n",
    "    D_loss_per_epoch.append(sum(D_losses[i:i+max_iter]) / max_iter)\n",
    "\n",
    "# remove the last element if it is not a full epoch\n",
    "if len(G_losses) % max_iter != 0:\n",
    "    G_loss_per_epoch.pop()\n",
    "    D_loss_per_epoch.pop()\n",
    "\n",
    "plt.figure(figsize=(10, 5))\n",
    "plt.title(\"Generator and Discriminator Loss During Training\")\n",
    "plt.plot(G_loss_per_epoch, label=\"G\")\n",
    "plt.plot(D_loss_per_epoch, label=\"D\")\n",
    "plt.xlabel(\"epochs\")\n",
    "plt.ylabel(\"Loss\")\n",
    "plt.legend()\n",
    "plt.show()"
   ]
  }
 ],
 "metadata": {
  "kernelspec": {
   "display_name": "usda",
   "language": "python",
   "name": "python3"
  },
  "language_info": {
   "codemirror_mode": {
    "name": "ipython",
    "version": 3
   },
   "file_extension": ".py",
   "mimetype": "text/x-python",
   "name": "python",
   "nbconvert_exporter": "python",
   "pygments_lexer": "ipython3",
   "version": "3.9.16"
  },
  "orig_nbformat": 4
 },
 "nbformat": 4,
 "nbformat_minor": 2
}
